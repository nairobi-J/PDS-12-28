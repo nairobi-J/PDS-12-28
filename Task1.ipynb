{
  "cells": [
    {
      "cell_type": "code",
      "execution_count": null,
      "metadata": {
        "id": "5eWJpi4UuzJj"
      },
      "outputs": [],
      "source": [
        "\n",
        "import pandas as pd\n",
        "import os\n",
        "from datetime import datetime\n",
        "inventory_file = \"inventory.csv\"\n",
        "sales_file = \"sales.csv\"\n",
        "\n",
        "# Load or Create Files\n",
        "if not os.path.exists(inventory_file):\n",
        "    pd.DataFrame(columns=[\"Item ID\", \"Item Name\", \"Category\", \"Quantity\", \"Unit Price\", \"Reorder Level\"]).to_csv(inventory_file, index=False)\n",
        "if not os.path.exists(sales_file):\n",
        "    pd.DataFrame(columns=[\"Transaction ID\", \"Item ID\", \"Quantity Sold\", \"Sale Date\", \"Total Price\"]).to_csv(sales_file, index=False)"
      ]
    },
    {
      "cell_type": "markdown",
      "metadata": {
        "id": "xpElZBQxwfN5"
      },
      "source": [
        "Imports and Initialization"
      ]
    },
    {
      "cell_type": "code",
      "execution_count": null,
      "metadata": {
        "id": "Fw8VRmErvzVu"
      },
      "outputs": [],
      "source": [
        "def add_item():\n",
        "    #inventory is the copy of main inventory_file\n",
        "    #needed inputs:item id, item name, category, quantity, unit Price, Reorder level\n",
        "    #after taking input a dataframe is being created, and values are assigned to the data-frame\n",
        "    #append the dataframe to the inventory file using concat, save the updated inventory to the csv file\n",
        "    inventory = pd.read_csv(inventory_file)\n",
        "    item_id = input(\"Enter Item ID: \")\n",
        "    if item_id in inventory[\"Item ID\"].values:\n",
        "        print(\"Item ID already exists.\")\n",
        "        return\n",
        "    item_name = input(\"Enter Item Name: \")\n",
        "    category = input(\"Enter Category: \")\n",
        "    quantity = int(input(\"Enter Quantity: \"))\n",
        "    unit_price = float(input(\"Enter Unit Price: \"))\n",
        "    reorder_level = int(input(\"Enter Reorder Level: \"))\n",
        "\n",
        "    new_item = pd.DataFrame([{\n",
        "        \"Item ID\": item_id,\n",
        "        \"Item Name\": item_name,\n",
        "        \"Category\": category,\n",
        "        \"Quantity\": quantity,\n",
        "        \"Unit Price\": unit_price,\n",
        "        \"Reorder Level\": reorder_level\n",
        "    }])\n",
        "\n",
        "    inventory = pd.concat([inventory, new_item], ignore_index=True)\n",
        "    inventory.to_csv(inventory_file, index=False)\n",
        "    print(\"Item added successfully!\")\n"
      ]
    },
    {
      "cell_type": "markdown",
      "metadata": {
        "id": "XTe-_wtCwlXZ"
      },
      "source": [
        "Add New Items\n"
      ]
    },
    {
      "cell_type": "code",
      "execution_count": null,
      "metadata": {
        "id": "jMgTVKhSv75k"
      },
      "outputs": [],
      "source": [
        "def update_item():\n",
        "    #inventory is the copy of main inventory_file\n",
        "    #take the input id the for getting the values for targeted id\n",
        "    #added if for invalid item id else the targeted item will be printed\n",
        "    #take input which field i want to edit\n",
        "    #if the field is invalid then also termination\n",
        "    #else take updated value\n",
        "\n",
        "    inventory = pd.read_csv(inventory_file)\n",
        "    item_id = input(\"Enter Item ID to update: \")\n",
        "    print(inventory['Item ID'].values)\n",
        "    if item_id not in inventory[\"Item ID\"].values:\n",
        "        print(\"Item not found.\")\n",
        "        return\n",
        "    print(\"Current Details:\")\n",
        "    print(inventory[inventory[\"Item ID\"] == item_id])\n",
        "    field = input(\"Enter field to update (Item Name, Category, Quantity, Unit Price, Reorder Level): \")\n",
        "    if field not in inventory.columns:\n",
        "        print(\"Invalid field.\")\n",
        "        return\n",
        "    new_value = input(f\"Enter new value for {field}: \")\n",
        "    inventory.loc[inventory[\"Item ID\"] == item_id, field] = new_value\n",
        "    inventory.to_csv(inventory_file, index=False)\n",
        "    print(\"Item updated successfully!\")\n"
      ]
    },
    {
      "cell_type": "markdown",
      "metadata": {
        "id": "JmAsWuglwsmR"
      },
      "source": [
        "update item"
      ]
    },
    {
      "cell_type": "code",
      "execution_count": null,
      "metadata": {
        "id": "arMM2f21wPlz"
      },
      "outputs": [],
      "source": [
        "def delete_item():\n",
        "  #checks item in the inventory if not found returns else deletes the target item\n",
        "    inventory = pd.read_csv(inventory_file)\n",
        "    item_id = input(\"Enter Item ID to delete: \")\n",
        "    if item_id not in inventory[\"Item ID\"].values:\n",
        "        print(\"Item not found.\")\n",
        "        return\n",
        "    inventory = inventory[inventory[\"Item ID\"] != item_id]\n",
        "    inventory.to_csv(inventory_file, index=False)\n",
        "    print(\"Item deleted successfully!\")\n"
      ]
    },
    {
      "cell_type": "markdown",
      "metadata": {
        "id": "C91cOq_8wvLd"
      },
      "source": [
        "delete item"
      ]
    },
    {
      "cell_type": "code",
      "execution_count": null,
      "metadata": {
        "id": "NlHxF5sPwTwV"
      },
      "outputs": [],
      "source": [
        "def monitor_stock():\n",
        "    #checks the reorder and decides the quality\n",
        "    inventory = pd.read_csv(inventory_file)\n",
        "    low_stock = inventory[inventory[\"Quantity\"] <= inventory[\"Reorder Level\"]]\n",
        "    print(\"Low Stock Items:\")\n",
        "    print(low_stock)\n",
        "\n",
        "def out_of_stock_report():\n",
        "   #checks the availability by checking quantity 0\n",
        "    inventory = pd.read_csv(inventory_file)\n",
        "    out_of_stock = inventory[inventory[\"Quantity\"] == 0]\n",
        "    print(\"Out of Stock Items:\")\n",
        "    print(out_of_stock)\n"
      ]
    },
    {
      "cell_type": "markdown",
      "metadata": {
        "id": "SushgkPcwxqq"
      },
      "source": [
        "Stock Level Monitoring"
      ]
    },
    {
      "cell_type": "code",
      "execution_count": null,
      "metadata": {
        "id": "JhucEImawbf_"
      },
      "outputs": [],
      "source": [
        "def record_sale():\n",
        "    inventory = pd.read_csv(inventory_file)\n",
        "    sales = pd.read_csv(sales_file)\n",
        "    item_id = input(\"Enter Item ID sold: \")\n",
        "    if item_id not in inventory[\"Item ID\"].values:\n",
        "        print(\"Item not found.\")\n",
        "        return\n",
        "    quantity_sold = int(input(\"Enter Quantity Sold: \"))\n",
        "    item = inventory[inventory[\"Item ID\"] == item_id]\n",
        "    if quantity_sold > int(item[\"Quantity\"]):\n",
        "        print(\"Insufficient stock.\")\n",
        "        return\n",
        "    total_price = quantity_sold * float(item[\"Unit Price\"])\n",
        "    transaction = {\n",
        "        \"Transaction ID\": len(sales) + 1,\n",
        "        \"Item ID\": item_id,\n",
        "        \"Quantity Sold\": quantity_sold,\n",
        "        \"Sale Date\": datetime.now().strftime(\"%Y-%m-%d %H:%M:%S\"),\n",
        "        \"Total Price\": total_price\n",
        "    }\n",
        "    sales = sales.append(transaction, ignore_index=True)\n",
        "    sales.to_csv(sales_file, index=False)\n",
        "    inventory.loc[inventory[\"Item ID\"] == item_id, \"Quantity\"] -= quantity_sold\n",
        "    inventory.to_csv(inventory_file, index=False)\n",
        "    print(\"Sale recorded successfully!\")\n"
      ]
    },
    {
      "cell_type": "markdown",
      "metadata": {
        "id": "5kgrjI1nw3TM"
      },
      "source": [
        "Record a Sale"
      ]
    },
    {
      "cell_type": "code",
      "execution_count": null,
      "metadata": {
        "id": "_ViTX1vpw6t-"
      },
      "outputs": [],
      "source": [
        "def sales_analysis():\n",
        "   #analyzes total sales and prints top selling item list by sorting the sum\n",
        "    sales = pd.read_csv(sales_file)\n",
        "    print(\"Total Sales:\")\n",
        "    print(sales[\"Total Price\"].sum())\n",
        "    print(\"Top-Selling Items:\")\n",
        "    print(sales.groupby(\"Item ID\")[\"Quantity Sold\"].sum().sort_values(ascending=False).head())\n"
      ]
    },
    {
      "cell_type": "markdown",
      "metadata": {
        "id": "hlEAC6Vvw-09"
      },
      "source": [
        "sales analysis"
      ]
    },
    {
      "cell_type": "code",
      "execution_count": null,
      "metadata": {
        "id": "-HsTyqwKxAmk"
      },
      "outputs": [],
      "source": [
        "def stock_value():\n",
        "    #calculates the total stock value\n",
        "    inventory = pd.read_csv(inventory_file)\n",
        "    inventory[\"Stock Value\"] = inventory[\"Quantity\"] * inventory[\"Unit Price\"]\n",
        "    print(\"Total Stock Value:\")\n",
        "    print(inventory[\"Stock Value\"].sum())\n"
      ]
    },
    {
      "cell_type": "markdown",
      "metadata": {
        "id": "8IzJNsKTxDbT"
      },
      "source": [
        "stock value"
      ]
    },
    {
      "cell_type": "code",
      "execution_count": null,
      "metadata": {
        "id": "s8Ry9indxVV1"
      },
      "outputs": [],
      "source": [
        "def menu():\n",
        "\n",
        "  # it conducts all operations\n",
        "    while True:\n",
        "        print(\"\\nInventory Management System\")\n",
        "        print(\"1. Add Item\")\n",
        "        print(\"2. Update Item\")\n",
        "        print(\"3. Delete Item\")\n",
        "        print(\"4. Monitor Stock\")\n",
        "        print(\"5. Record Sale\")\n",
        "        print(\"6. Sales Analysis\")\n",
        "        print(\"7. Stock Value\")\n",
        "        print(\"8. Exit\")\n",
        "        choice = input(\"Enter your choice: \")\n",
        "\n",
        "        if choice == \"1\":\n",
        "            add_item()\n",
        "        elif choice == \"2\":\n",
        "            update_item()\n",
        "        elif choice == \"3\":\n",
        "            delete_item()\n",
        "        elif choice == \"4\":\n",
        "            monitor_stock()\n",
        "        elif choice == \"5\":\n",
        "            record_sale()\n",
        "        elif choice == \"6\":\n",
        "            sales_analysis()\n",
        "        elif choice == \"7\":\n",
        "            stock_value()\n",
        "        elif choice == \"8\":\n",
        "            break\n",
        "        else:\n",
        "            print(\"Invalid choice. Try again.\")\n",
        "\n",
        "\n"
      ]
    },
    {
      "cell_type": "code",
      "execution_count": 25,
      "metadata": {
        "colab": {
          "base_uri": "https://localhost:8080/",
          "height": 720
        },
        "id": "TdDkXknRz4t9",
        "outputId": "0b5cecd9-64d0-46e9-86c4-e5edaa665b8f"
      },
      "outputs": [
        {
          "metadata": {
            "tags": null
          },
          "name": "stdout",
          "output_type": "stream",
          "text": [
            "\n",
            "Inventory Management System\n",
            "1. Add Item\n",
            "2. Update Item\n",
            "3. Delete Item\n",
            "4. Monitor Stock\n",
            "5. Record Sale\n",
            "6. Sales Analysis\n",
            "7. Stock Value\n",
            "8. Exit\n",
            "[101 102 103 104 105 106 107 108 109 110 111 112 113 114 115 116 117 118\n",
            " 119 120 121 122 123 124 125 126 127 128 129 130 131 132 133 134 135 136\n",
            " 137 138 139 140 141 142 143 144 145 146 147 148 149 150   1]\n",
            "Item not found.\n",
            "\n",
            "Inventory Management System\n",
            "1. Add Item\n",
            "2. Update Item\n",
            "3. Delete Item\n",
            "4. Monitor Stock\n",
            "5. Record Sale\n",
            "6. Sales Analysis\n",
            "7. Stock Value\n",
            "8. Exit\n"
          ]
        },
        {
          "output_type": "error",
          "ename": "KeyboardInterrupt",
          "evalue": "Interrupted by user",
          "traceback": [
            "\u001b[0;31m---------------------------------------------------------------------------\u001b[0m",
            "\u001b[0;31mKeyboardInterrupt\u001b[0m                         Traceback (most recent call last)",
            "\u001b[0;32m<ipython-input-25-a554a8713acc>\u001b[0m in \u001b[0;36m<cell line: 0>\u001b[0;34m()\u001b[0m\n\u001b[0;32m----> 1\u001b[0;31m \u001b[0mmenu\u001b[0m\u001b[0;34m(\u001b[0m\u001b[0;34m)\u001b[0m\u001b[0;34m\u001b[0m\u001b[0;34m\u001b[0m\u001b[0m\n\u001b[0m",
            "\u001b[0;32m<ipython-input-19-7cfed78e607b>\u001b[0m in \u001b[0;36mmenu\u001b[0;34m()\u001b[0m\n\u001b[1;32m     10\u001b[0m         \u001b[0mprint\u001b[0m\u001b[0;34m(\u001b[0m\u001b[0;34m\"7. Stock Value\"\u001b[0m\u001b[0;34m)\u001b[0m\u001b[0;34m\u001b[0m\u001b[0;34m\u001b[0m\u001b[0m\n\u001b[1;32m     11\u001b[0m         \u001b[0mprint\u001b[0m\u001b[0;34m(\u001b[0m\u001b[0;34m\"8. Exit\"\u001b[0m\u001b[0;34m)\u001b[0m\u001b[0;34m\u001b[0m\u001b[0;34m\u001b[0m\u001b[0m\n\u001b[0;32m---> 12\u001b[0;31m         \u001b[0mchoice\u001b[0m \u001b[0;34m=\u001b[0m \u001b[0minput\u001b[0m\u001b[0;34m(\u001b[0m\u001b[0;34m\"Enter your choice: \"\u001b[0m\u001b[0;34m)\u001b[0m\u001b[0;34m\u001b[0m\u001b[0;34m\u001b[0m\u001b[0m\n\u001b[0m\u001b[1;32m     13\u001b[0m \u001b[0;34m\u001b[0m\u001b[0m\n\u001b[1;32m     14\u001b[0m         \u001b[0;32mif\u001b[0m \u001b[0mchoice\u001b[0m \u001b[0;34m==\u001b[0m \u001b[0;34m\"1\"\u001b[0m\u001b[0;34m:\u001b[0m\u001b[0;34m\u001b[0m\u001b[0;34m\u001b[0m\u001b[0m\n",
            "\u001b[0;32m/usr/local/lib/python3.11/dist-packages/ipykernel/kernelbase.py\u001b[0m in \u001b[0;36mraw_input\u001b[0;34m(self, prompt)\u001b[0m\n\u001b[1;32m    849\u001b[0m                 \u001b[0;34m\"raw_input was called, but this frontend does not support input requests.\"\u001b[0m\u001b[0;34m\u001b[0m\u001b[0;34m\u001b[0m\u001b[0m\n\u001b[1;32m    850\u001b[0m             )\n\u001b[0;32m--> 851\u001b[0;31m         return self._input_request(str(prompt),\n\u001b[0m\u001b[1;32m    852\u001b[0m             \u001b[0mself\u001b[0m\u001b[0;34m.\u001b[0m\u001b[0m_parent_ident\u001b[0m\u001b[0;34m,\u001b[0m\u001b[0;34m\u001b[0m\u001b[0;34m\u001b[0m\u001b[0m\n\u001b[1;32m    853\u001b[0m             \u001b[0mself\u001b[0m\u001b[0;34m.\u001b[0m\u001b[0m_parent_header\u001b[0m\u001b[0;34m,\u001b[0m\u001b[0;34m\u001b[0m\u001b[0;34m\u001b[0m\u001b[0m\n",
            "\u001b[0;32m/usr/local/lib/python3.11/dist-packages/ipykernel/kernelbase.py\u001b[0m in \u001b[0;36m_input_request\u001b[0;34m(self, prompt, ident, parent, password)\u001b[0m\n\u001b[1;32m    893\u001b[0m             \u001b[0;32mexcept\u001b[0m \u001b[0mKeyboardInterrupt\u001b[0m\u001b[0;34m:\u001b[0m\u001b[0;34m\u001b[0m\u001b[0;34m\u001b[0m\u001b[0m\n\u001b[1;32m    894\u001b[0m                 \u001b[0;31m# re-raise KeyboardInterrupt, to truncate traceback\u001b[0m\u001b[0;34m\u001b[0m\u001b[0;34m\u001b[0m\u001b[0m\n\u001b[0;32m--> 895\u001b[0;31m                 \u001b[0;32mraise\u001b[0m \u001b[0mKeyboardInterrupt\u001b[0m\u001b[0;34m(\u001b[0m\u001b[0;34m\"Interrupted by user\"\u001b[0m\u001b[0;34m)\u001b[0m \u001b[0;32mfrom\u001b[0m \u001b[0;32mNone\u001b[0m\u001b[0;34m\u001b[0m\u001b[0;34m\u001b[0m\u001b[0m\n\u001b[0m\u001b[1;32m    896\u001b[0m             \u001b[0;32mexcept\u001b[0m \u001b[0mException\u001b[0m \u001b[0;32mas\u001b[0m \u001b[0me\u001b[0m\u001b[0;34m:\u001b[0m\u001b[0;34m\u001b[0m\u001b[0;34m\u001b[0m\u001b[0m\n\u001b[1;32m    897\u001b[0m                 \u001b[0mself\u001b[0m\u001b[0;34m.\u001b[0m\u001b[0mlog\u001b[0m\u001b[0;34m.\u001b[0m\u001b[0mwarning\u001b[0m\u001b[0;34m(\u001b[0m\u001b[0;34m\"Invalid Message:\"\u001b[0m\u001b[0;34m,\u001b[0m \u001b[0mexc_info\u001b[0m\u001b[0;34m=\u001b[0m\u001b[0;32mTrue\u001b[0m\u001b[0;34m)\u001b[0m\u001b[0;34m\u001b[0m\u001b[0;34m\u001b[0m\u001b[0m\n",
            "\u001b[0;31mKeyboardInterrupt\u001b[0m: Interrupted by user"
          ]
        }
      ],
      "source": [
        "\n",
        "menu()"
      ]
    }
  ],
  "metadata": {
    "colab": {
      "provenance": [],
      "toc_visible": true
    },
    "kernelspec": {
      "display_name": "Python 3",
      "name": "python3"
    },
    "language_info": {
      "name": "python"
    }
  },
  "nbformat": 4,
  "nbformat_minor": 0
}